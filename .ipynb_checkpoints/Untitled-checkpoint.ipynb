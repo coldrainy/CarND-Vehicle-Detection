{
 "cells": [
  {
   "cell_type": "code",
   "execution_count": 2,
   "metadata": {},
   "outputs": [],
   "source": [
    "import numpy as np\n",
    "import cv2\n",
    "import matplotlib.image as mpimg\n",
    "import matplotlib.pyplot as plt\n",
    "%matplotlib qt"
   ]
  },
  {
   "cell_type": "code",
   "execution_count": 3,
   "metadata": {},
   "outputs": [],
   "source": [
    "import glob\n",
    "import numpy as np\n",
    "from sklearn.preprocessing import StandardScaler\n",
    "\n",
    "    "
   ]
  },
  {
   "cell_type": "code",
   "execution_count": 4,
   "metadata": {},
   "outputs": [],
   "source": [
    "# Define a function to compute binned color features  \n",
    "def bin_spatial(img, size=(32, 32)):\n",
    "    # Use cv2.resize().ravel() to create the feature vector\n",
    "    features = cv2.resize(img, size).ravel() \n",
    "    # Return the feature vector\n",
    "    return features\n",
    "def color_hist(img, nbins=32, bins_range=(0, 256)):\n",
    "    # Compute the histogram of the color channels separately\n",
    "    channel1_hist = np.histogram(img[:,:,0], bins=nbins, range=bins_range)\n",
    "    channel2_hist = np.histogram(img[:,:,1], bins=nbins, range=bins_range)\n",
    "    channel3_hist = np.histogram(img[:,:,2], bins=nbins, range=bins_range)\n",
    "    # Concatenate the histograms into a single feature vector\n",
    "    hist_features = np.concatenate((channel1_hist[0], channel2_hist[0], channel3_hist[0]))\n",
    "    # Return the individual histograms, bin_centers and feature vector\n",
    "    return hist_features\n",
    "def extract_features(imgs, cspace='RGB', spatial_size=(32, 32),\n",
    "                        hist_bins=32, hist_range=(0, 256)):\n",
    "    # Create a list to append feature vectors to\n",
    "    features = []\n",
    "    for img in imgs:\n",
    "        image = mpimg.imread(img)\n",
    "        if cspace != 'RGB':\n",
    "            if cspace == 'HSV':\n",
    "                feature_image = cv2.cvtColor(image, cv2.COLOR_RGB2HSV)\n",
    "            elif cspace == 'LUV':\n",
    "                feature_image = cv2.cvtColor(image, cv2.COLOR_RGB2LUV)\n",
    "            elif cspace == 'HLS':\n",
    "                feature_image = cv2.cvtColor(image, cv2.COLOR_RGB2HLS)\n",
    "            elif cspace == 'YUV':\n",
    "                feature_image = cv2.cvtColor(image, cv2.COLOR_RGB2YUV)\n",
    "        else: feature_image = np.copy(image) \n",
    "        hist_features = color_hist(feature_image,nbins=hist_bins,bins_range=hist_range)\n",
    "        feature = bin_spatial(feature_image,size = spatial_size)\n",
    "        feature_combine = np.concatenate((feature,hist_features))\n",
    "        features.append(feature_combine)\n",
    "    # Iterate through the list of images\n",
    "        # Read in each one by one\n",
    "        # apply color conversion if other than 'RGB'\n",
    "        # Apply bin_spatial() to get spatial color features\n",
    "        # Apply color_hist() to get color histogram features\n",
    "        # Append the new feature vector to the features list\n",
    "    # Return list of feature vectors\n",
    "    return features"
   ]
  },
  {
   "cell_type": "code",
   "execution_count": 7,
   "metadata": {},
   "outputs": [
    {
     "name": "stdout",
     "output_type": "stream",
     "text": [
      "3900\n",
      "2826\n",
      "3900\n",
      "6726\n",
      "6726\n"
     ]
    }
   ],
   "source": [
    "vehicle_folders = ['GTI_Far/','GTI_Left/','GTI_MiddleClose/','GTI_Right/']\n",
    "none_vehicle_folders = ['GTI/']\n",
    "car_names = []\n",
    "no_car_names = []\n",
    "for vehicle_folder in vehicle_folders:\n",
    "    images = glob.glob('vehicles/vehicles/'+vehicle_folder+'image*.png')\n",
    "    car_names.extend(images)\n",
    "for none_vehicle_folder in none_vehicle_folders:\n",
    "    images = glob.glob('non-vehicles/non-vehicles/'+none_vehicle_folder+'image*.png')\n",
    "    no_car_names.extend(images)\n",
    "print(len(no_car_names))\n",
    "cars = []\n",
    "notcars = []\n",
    "\n",
    "car_features = extract_features(car_names,cspace='RGB', spatial_size=(32, 32),\n",
    "                        hist_bins=32, hist_range=(0, 256))\n",
    "print(len(car_features))\n",
    "notcar_features = extract_features(no_car_names, cspace='RGB', spatial_size=(32, 32),\n",
    "                        hist_bins=32, hist_range=(0, 256))\n",
    "print(len(notcar_features))\n",
    "X = np.vstack((car_features,notcar_features)).astype(np.float64)\n",
    "y = np.hstack((np.ones(len(car_features)),np.zeros(len(notcar_features))))\n",
    "print(len(X))\n",
    "print(len(y))"
   ]
  },
  {
   "cell_type": "code",
   "execution_count": 8,
   "metadata": {},
   "outputs": [],
   "source": [
    "from sklearn.model_selection import train_test_split\n",
    "rand_state = np.random.randint(0, 100)\n",
    "X_train, X_test, y_train, y_test = train_test_split(X, y, test_size=0.2, random_state=rand_state)"
   ]
  },
  {
   "cell_type": "code",
   "execution_count": 9,
   "metadata": {},
   "outputs": [],
   "source": [
    "from sklearn.preprocessing import StandardScaler\n",
    "# Fit a per-column scaler only on the training data\n",
    "X_scaler = StandardScaler().fit(X_train)\n",
    "# Apply the scaler to both X_train and X_test\n",
    "scaled_X_train = X_scaler.transform(X_train)\n",
    "scaled_X_test = X_scaler.transform(X_test)"
   ]
  },
  {
   "cell_type": "code",
   "execution_count": 11,
   "metadata": {},
   "outputs": [
    {
     "name": "stdout",
     "output_type": "stream",
     "text": [
      "Test Accuracy of SVC =  0.945765230312\n",
      "My SVC predicts:  [ 0.  0.  1.  0.  1.  0.  0.  0.  0.  0.]\n",
      "For these 10 labels:  [ 0.  0.  1.  1.  1.  0.  0.  0.  0.  0.]\n"
     ]
    }
   ],
   "source": [
    "from sklearn.svm import LinearSVC\n",
    "# Use a linear SVC (support vector classifier)\n",
    "svc = LinearSVC()\n",
    "# Train the SVC\n",
    "svc.fit(scaled_X_train, y_train)\n",
    "print('Test Accuracy of SVC = ', svc.score(scaled_X_test, y_test))\n",
    "print('My SVC predicts: ', svc.predict(X_test[0:10]))\n",
    "print('For these',10, 'labels: ', y_test[0:10])"
   ]
  },
  {
   "cell_type": "code",
   "execution_count": null,
   "metadata": {},
   "outputs": [],
   "source": []
  }
 ],
 "metadata": {
  "kernelspec": {
   "display_name": "Python 2",
   "language": "python",
   "name": "python2"
  },
  "language_info": {
   "codemirror_mode": {
    "name": "ipython",
    "version": 3
   },
   "file_extension": ".py",
   "mimetype": "text/x-python",
   "name": "python",
   "nbconvert_exporter": "python",
   "pygments_lexer": "ipython3",
   "version": "3.6.0"
  }
 },
 "nbformat": 4,
 "nbformat_minor": 2
}
